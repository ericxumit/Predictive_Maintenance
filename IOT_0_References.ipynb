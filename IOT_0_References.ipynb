{
 "cells": [
  {
   "cell_type": "markdown",
   "metadata": {},
   "source": [
    "## This is the Reference Documentations"
   ]
  },
  {
   "cell_type": "markdown",
   "metadata": {},
   "source": [
    "# References\n",
    "\n",
    "#### Introduce the engine\n",
    "- Damage Propagation Modeling.pdf\n",
    "\n",
    "#### Noise\n",
    "- RNN: 04711422.pdf\n",
    "- Auto Encoder: https://www.infoq.com/articles/machine-learning-techniques-predictive-maintenance\n",
    "- PCA: https://www.infoq.com/articles/machine-learning-techniques-predictive-maintenance\n",
    "        \n",
    "#### Feature Engineering\n",
    "- Moving Average: https://gallery.azure.ai/Experiment/df7c518dcba7407fb855377339d6589f\n",
    "- Normalization: https://www.cnblogs.com/chaosimple/p/4153167.html\n",
    "\n",
    "#### Parameter Setting\n",
    "- Grid Search: https://www.infoq.com/articles/machine-learning-techniques-predictive-maintenance\n",
    "\n",
    "#### Models\n",
    "- LSTM code: https://colab.research.google.com/drive/1tjIOud2Cc6smmvZsbl-QDBA6TLA2iEtd#scrollTo=WRfcnQH8nqII\n",
    "- LSTM: https://github.com/Azure/lstms_for_predictive_maintenance/blob/master/Deep%20Learning%20Basics%20for%20Predictive%20Maintenance.ipynb\n",
    "- Kalman Filter: phmc_14_002.pdf\n",
    "- Keras: https://github.com/Azure/MachineLearningSamples-DeepLearningforPredictiveMaintenance/blob/master/Code/3_operationalization.ipynb\n",
    "\n",
    "#### Evaluation\n",
    "- WSO2 CEP: https://www.infoq.com/articles/machine-learning-techniques-predictive-maintenance\n",
    "- Loss chart: https://github.com/umbertogriffo/Predictive-Maintenance-using-LSTM\n",
    "- Loss formular: https://docs.google.com/document/d/1Qk7tLpr8Qq-R3uPbLwCeryAOmxfaRMP9crRv6zCLWBI/edit \n",
    "- Regression Evaluation: http://scikit-learn.org/stable/modules/model_evaluation.html#regression-metrics\n",
    "- Metrics: https://blog.csdn.net/x_r_su/article/details/53046275\n",
    "- ROC AUC: https://www.cnblogs.com/dlml/p/4403482.html\n",
    "        \n",
    "#### Base line\n",
    "- https://www.kaggle.com/billstuart/predictive-maintenance-ml-iiot\n",
    "- https://github.com/Samimust/predictive-maintenance/blob/master/Model%20Selection%20-%20Regression.ipynb"
   ]
  },
  {
   "cell_type": "markdown",
   "metadata": {},
   "source": [
    "# Process Flow\n",
    "\n",
    "![title](image/phases1.png)"
   ]
  },
  {
   "cell_type": "markdown",
   "metadata": {
    "collapsed": true
   },
   "source": [
    "# Performance Metrics\n",
    "\n",
    "![title](image/regressor_metrics.png)\n",
    "![title](image/classifier_metrics.png)"
   ]
  },
  {
   "cell_type": "markdown",
   "metadata": {},
   "source": []
  },
  {
   "cell_type": "code",
   "execution_count": null,
   "metadata": {
    "collapsed": true
   },
   "outputs": [],
   "source": []
  },
  {
   "cell_type": "code",
   "execution_count": null,
   "metadata": {
    "collapsed": true
   },
   "outputs": [],
   "source": []
  },
  {
   "cell_type": "code",
   "execution_count": null,
   "metadata": {
    "collapsed": true
   },
   "outputs": [],
   "source": []
  },
  {
   "cell_type": "code",
   "execution_count": null,
   "metadata": {
    "collapsed": true
   },
   "outputs": [],
   "source": []
  }
 ],
 "metadata": {
  "kernelspec": {
   "display_name": "Python 3",
   "language": "python",
   "name": "python3"
  },
  "language_info": {
   "codemirror_mode": {
    "name": "ipython",
    "version": 3
   },
   "file_extension": ".py",
   "mimetype": "text/x-python",
   "name": "python",
   "nbconvert_exporter": "python",
   "pygments_lexer": "ipython3",
   "version": "3.5.3"
  }
 },
 "nbformat": 4,
 "nbformat_minor": 2
}
